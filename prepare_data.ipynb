{
 "cells": [
  {
   "cell_type": "code",
   "execution_count": 2,
   "metadata": {},
   "outputs": [
    {
     "data": {
      "text/plain": [
       "'d:\\\\ai-code\\\\bert-projects\\\\bert-document-classification-reproduce'"
      ]
     },
     "execution_count": 2,
     "metadata": {},
     "output_type": "execute_result"
    }
   ],
   "source": [
    "%pwd"
   ]
  },
  {
   "cell_type": "markdown",
   "metadata": {},
   "source": [
    "### 下面的代码可以跑，但我建议你不要跑，除非你的GPU>=RTX3060"
   ]
  },
  {
   "cell_type": "code",
   "execution_count": 4,
   "metadata": {},
   "outputs": [
    {
     "name": "stdout",
     "output_type": "stream",
     "text": [
      "^C\n"
     ]
    }
   ],
   "source": [
    "!python wikidata_for_authors.py run ./datasets/wikidata/index_enwiki-latest.db \\\n",
    "    ./datasets/wikidata/index_dewiki-latest.db \\\n",
    "    ./datasets/wikidata/torchbiggraph/wikidata_translation_v1.tsv.gz \\\n",
    "    ./eval/authors.pickle \\\n",
    "    ./eval/author2embedding.pickle\n",
    "    \n",
    "\n",
    "# /eval/author2embedding.pickle 是输出路径"
   ]
  }
 ],
 "metadata": {
  "kernelspec": {
   "display_name": ".venv",
   "language": "python",
   "name": "python3"
  },
  "language_info": {
   "codemirror_mode": {
    "name": "ipython",
    "version": 3
   },
   "file_extension": ".py",
   "mimetype": "text/x-python",
   "name": "python",
   "nbconvert_exporter": "python",
   "pygments_lexer": "ipython3",
   "version": "3.10.10"
  }
 },
 "nbformat": 4,
 "nbformat_minor": 2
}
