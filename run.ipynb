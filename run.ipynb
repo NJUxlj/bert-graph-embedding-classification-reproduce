{
 "cells": [
  {
   "cell_type": "code",
   "execution_count": 4,
   "metadata": {},
   "outputs": [
    {
     "name": "stderr",
     "output_type": "stream",
     "text": [
      "'export' �����ڲ����ⲿ���Ҳ���ǿ����еĳ���\n",
      "���������ļ���\n"
     ]
    }
   ],
   "source": [
    "!export BERT_MODELS_DIR=\"D:/ai-code/bert-projects/bert-document-classification-reproduce/models/final-task-a__bert-german_full\""
   ]
  },
  {
   "cell_type": "code",
   "execution_count": 7,
   "metadata": {},
   "outputs": [],
   "source": [
    "import os\n",
    "os.environ['BERT_MODELS_DIR'] = 'D:/ai-code/bert-projects/bert-document-classification-reproduce/models'"
   ]
  },
  {
   "cell_type": "code",
   "execution_count": 2,
   "metadata": {},
   "outputs": [
    {
     "name": "stdout",
     "output_type": "stream",
     "text": [
      "2.0.1\n",
      "True\n"
     ]
    }
   ],
   "source": [
    "\n",
    "import torch\n",
    "print(torch.__version__)\n",
    "print(torch.backends.cudnn.is_available())"
   ]
  },
  {
   "cell_type": "code",
   "execution_count": 3,
   "metadata": {},
   "outputs": [
    {
     "name": "stdout",
     "output_type": "stream",
     "text": [
      "CUDA is available!\n",
      "CUDA version: 11.7\n",
      "CUDA device name: NVIDIA GeForce RTX 2050\n"
     ]
    }
   ],
   "source": [
    "import torch\n",
    "\n",
    "if torch.cuda.is_available():\n",
    "    print(\"CUDA is available!\")\n",
    "    print(\"CUDA version:\", torch.version.cuda)\n",
    "    print(\"CUDA device name:\", torch.cuda.get_device_name(0))\n",
    "else:\n",
    "    print(\"CUDA is not available.\")"
   ]
  },
  {
   "cell_type": "code",
   "execution_count": null,
   "metadata": {},
   "outputs": [],
   "source": [
    "!python experiments.py run task-a__bert-german_manual_author-embedding_author-gender \\\n",
    "    4 \\\n",
    "    data/extras \\\n",
    "    germeval_train_df_meta.pickle \\\n",
    "    germeval_val_df_meta.pickle \\\n",
    "    experiments_output"
   ]
  },
  {
   "cell_type": "code",
   "execution_count": 8,
   "metadata": {},
   "outputs": [
    {
     "name": "stderr",
     "output_type": "stream",
     "text": [
      "2024-09-21 13:49:21.471190: I tensorflow/core/util/port.cc:153] oneDNN custom operations are on. You may see slightly different numerical results due to floating-point round-off errors from different computation orders. To turn them off, set the environment variable `TF_ENABLE_ONEDNN_OPTS=0`.\n",
      "2024-09-21 13:49:22.097431: I tensorflow/core/util/port.cc:153] oneDNN custom operations are on. You may see slightly different numerical results due to floating-point round-off errors from different computation orders. To turn them off, set the environment variable `TF_ENABLE_ONEDNN_OPTS=0`.\n"
     ]
    }
   ],
   "source": [
    "!python cli.py final task-a__bert-german_full \\\n",
    "    0 \\\n",
    "    extras \\\n",
    "    eval/germeval_fulltrain_df_meta.pickle \\\n",
    "    eval/germeval_test_df_meta.pickle \\\n",
    "    experiments_output \\\n",
    "    --epochs 1"
   ]
  },
  {
   "cell_type": "code",
   "execution_count": 9,
   "metadata": {},
   "outputs": [
    {
     "name": "stdout",
     "output_type": "stream",
     "text": [
      "Embeddings avaiable for 5 authors\n",
      "Gender data avaiable for 95026 authors\n"
     ]
    },
    {
     "name": "stderr",
     "output_type": "stream",
     "text": [
      "INFO:pytorch_pretrained_bert.tokenization:loading vocabulary file D:/ai-code/bert-projects/bert-document-classification-reproduce/models\\bert-base-german-cased\\vocab.txt\n",
      "Traceback (most recent call last):\n",
      "  File \"cli.py\", line 421, in <module>\n",
      "    fire.Fire()\n",
      "  File \"d:\\soft\\Anaconda\\envs\\badouai\\lib\\site-packages\\fire\\core.py\", line 143, in Fire\n",
      "    component_trace = _Fire(component, args, parsed_flag_args, context, name)\n",
      "  File \"d:\\soft\\Anaconda\\envs\\badouai\\lib\\site-packages\\fire\\core.py\", line 477, in _Fire\n",
      "    component, remaining_args = _CallAndUpdateTrace(\n",
      "  File \"d:\\soft\\Anaconda\\envs\\badouai\\lib\\site-packages\\fire\\core.py\", line 693, in _CallAndUpdateTrace\n",
      "    component = fn(*varargs, **kwargs)\n",
      "  File \"cli.py\", line 237, in run_on_val\n",
      "    val_df, val_y = experiment.prepare_data_loaders(df_train_path, df_val_path, extras_dir)\n",
      "  File \"d:\\ai-code\\bert-projects\\bert-document-classification-reproduce\\experiment.py\", line 248, in prepare_data_loaders\n",
      "    val_y = val_df[self.labels].values\n",
      "  File \"d:\\soft\\Anaconda\\envs\\badouai\\lib\\site-packages\\pandas\\core\\frame.py\", line 3767, in __getitem__\n",
      "    indexer = self.columns._get_indexer_strict(key, \"columns\")[1]\n",
      "  File \"d:\\soft\\Anaconda\\envs\\badouai\\lib\\site-packages\\pandas\\core\\indexes\\base.py\", line 5877, in _get_indexer_strict\n",
      "    self._raise_if_missing(keyarr, indexer, axis_name)\n",
      "  File \"d:\\soft\\Anaconda\\envs\\badouai\\lib\\site-packages\\pandas\\core\\indexes\\base.py\", line 5938, in _raise_if_missing\n",
      "    raise KeyError(f\"None of [{key}] are in the [{axis_name}]\")\n",
      "KeyError: \"None of [Index(['Literatur & Unterhaltung', 'Ratgeber', 'Künste', 'Sachbuch',\\n       'Glaube & Ethik', 'Kinderbuch & Jugendbuch',\\n       'Ganzheitliches Bewusstsein', 'Architektur & Garten'],\\n      dtype='object')] are in the [columns]\"\n"
     ]
    }
   ],
   "source": [
    "!python cli.py run_on_val task-a__bert-german_full \\\n",
    "    0 \\\n",
    "    extras \\\n",
    "    eval/germeval_fulltrain_df_meta.pickle \\\n",
    "    eval/germeval_test_df_meta.pickle \\\n",
    "    experiments_output \\\n",
    "    --epochs 1"
   ]
  }
 ],
 "metadata": {
  "kernelspec": {
   "display_name": ".venv",
   "language": "python",
   "name": "python3"
  },
  "language_info": {
   "codemirror_mode": {
    "name": "ipython",
    "version": 3
   },
   "file_extension": ".py",
   "mimetype": "text/x-python",
   "name": "python",
   "nbconvert_exporter": "python",
   "pygments_lexer": "ipython3",
   "version": "3.8.18"
  }
 },
 "nbformat": 4,
 "nbformat_minor": 2
}
